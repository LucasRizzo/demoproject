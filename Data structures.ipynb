{
 "cells": [
  {
   "cell_type": "markdown",
   "id": "a4f6c5f3",
   "metadata": {},
   "source": [
    "# Built-in Data Structures\n",
    "\n",
    "This notebook reproduces the code used to introduce data structures. Test each cell and make sure you understand all functionalities. At the bottom, please complete the exercises."
   ]
  },
  {
   "cell_type": "markdown",
   "id": "7635e86f",
   "metadata": {},
   "source": [
    "## Lists"
   ]
  },
  {
   "cell_type": "markdown",
   "id": "43b2f617",
   "metadata": {},
   "source": [
    "### Creating lists"
   ]
  },
  {
   "cell_type": "code",
   "execution_count": 2,
   "id": "a0c34dce",
   "metadata": {},
   "outputs": [
    {
     "name": "stdout",
     "output_type": "stream",
     "text": [
      "['John', 'Mary', 'Paul', 'Lucas']\n"
     ]
    }
   ],
   "source": [
    "names = [\"John\", \"Mary\",\"Paul\", \"Lucas\"]\n",
    "print(names)"
   ]
  },
  {
   "cell_type": "code",
   "execution_count": null,
   "id": "0b646e79",
   "metadata": {},
   "outputs": [],
   "source": [
    "numbers = [1, 2, 5, 10, 3]\n",
    "list(\"Lucas\") # ['l', 'u', 'c', 'a', 's']"
   ]
  },
  {
   "cell_type": "markdown",
   "id": "a7dc8b25",
   "metadata": {},
   "source": [
    "### Indexing of a List"
   ]
  },
  {
   "cell_type": "code",
   "execution_count": null,
   "id": "346e1430",
   "metadata": {},
   "outputs": [],
   "source": [
    "my_list = [1, \"a\", 100, \"hello\", 20.5]\n",
    "my_list[2] # will return 100\n",
    "my_list[-4] # will return \"a\""
   ]
  },
  {
   "cell_type": "markdown",
   "id": "d7434f7b",
   "metadata": {},
   "source": [
    "### Adding and removing elements"
   ]
  },
  {
   "cell_type": "code",
   "execution_count": null,
   "id": "8f456700",
   "metadata": {},
   "outputs": [],
   "source": [
    "my_list.append(\"dwarf\")\n",
    "my_list.insert(1, \"red\")\n",
    "item_removed = my_list.pop(2)\n",
    "my_list.remove(\"red\")"
   ]
  },
  {
   "cell_type": "markdown",
   "id": "8291438e",
   "metadata": {},
   "source": [
    "### List operators"
   ]
  },
  {
   "cell_type": "code",
   "execution_count": null,
   "id": "1f240617",
   "metadata": {},
   "outputs": [],
   "source": [
    "\"dwarf\" in my_list\n",
    "20.5 not in my_list\n",
    "[1, 2, 3] + [4]\n",
    "[1, 2, 3] * 2\n",
    "[1, 2, 3] < [1, 2, 4]\n",
    "[5, 2, 3] > [1, 2, 4]\n",
    "[1, 2, 3] == [1, 2, 3]"
   ]
  },
  {
   "cell_type": "markdown",
   "id": "2097bc75",
   "metadata": {},
   "source": [
    "### Lists of lists"
   ]
  },
  {
   "cell_type": "code",
   "execution_count": 1,
   "id": "5ca5135c",
   "metadata": {},
   "outputs": [],
   "source": [
    "my_list = ['a', [1, 2, 3], 'z']\n",
    "my_list[1][0] # Apply left to right\n",
    "my_list[1] # Will return [1, 2, 3]\n",
    "[1, 2, 3][0] # Will return 1\n"
   ]
  },
  {
   "cell_type": "markdown",
   "id": "0365e6fa",
   "metadata": {},
   "source": [
    "### Lists functions"
   ]
  },
  {
   "cell_type": "code",
   "execution_count": null,
   "id": "cf5f25c2",
   "metadata": {},
   "outputs": [],
   "source": [
    "len(my_list)\n",
    "len([1, [1, 2], 3]) # Will return 3\n",
    "min([1,2,3]) # Will return 1\n",
    "max([1,2,3]) # Will return 3\n",
    "sum([1,2,3]) # Will return 6"
   ]
  },
  {
   "cell_type": "markdown",
   "id": "5131206f",
   "metadata": {},
   "source": [
    "### Slicing"
   ]
  },
  {
   "cell_type": "code",
   "execution_count": 2,
   "id": "752b0a1d",
   "metadata": {},
   "outputs": [
    {
     "data": {
      "text/plain": [
       "[7, 5, 6]"
      ]
     },
     "execution_count": 2,
     "metadata": {},
     "output_type": "execute_result"
    }
   ],
   "source": [
    "seq = [7, 2, 3, 7, 5, 6, 0, 1]\n",
    "seq[1:5] # Will return [2, 3, 7, 5]\n",
    "seq[-5:-2]"
   ]
  },
  {
   "cell_type": "markdown",
   "id": "f5d8d509",
   "metadata": {},
   "source": [
    "### Sorting"
   ]
  },
  {
   "cell_type": "code",
   "execution_count": null,
   "id": "fbd74934",
   "metadata": {},
   "outputs": [],
   "source": [
    "a = [7, 2, 5, 1, 3]\n",
    "a.sort()\n",
    "print(a) "
   ]
  },
  {
   "cell_type": "markdown",
   "id": "dfb621bf",
   "metadata": {},
   "source": [
    "### Exercises"
   ]
  },
  {
   "cell_type": "markdown",
   "id": "72671326",
   "metadata": {},
   "source": [
    "1. Given 2 lists of ints, a and b, write a code to print True if they have the same first element or they have the same last element."
   ]
  },
  {
   "cell_type": "code",
   "execution_count": null,
   "id": "dba7a14b",
   "metadata": {},
   "outputs": [],
   "source": [
    "a = [1, 2, 3, 4]\n",
    "b = [5, 4, 3, 2]"
   ]
  },
  {
   "cell_type": "markdown",
   "id": "eeec6f44",
   "metadata": {},
   "source": [
    "2. Write a program that takes a list of numbers and returns a new list containing only the even numbers from the first list.\n",
    "\n",
    "Sample list: <code>[1, 2, 3, 4, 5, 6]</code>. Expected Output: <code>[2, 4, 6]</code>\n"
   ]
  },
  {
   "cell_type": "code",
   "execution_count": null,
   "id": "ed829990",
   "metadata": {},
   "outputs": [],
   "source": []
  },
  {
   "cell_type": "markdown",
   "id": "3aa98538",
   "metadata": {},
   "source": [
    "3. Write a program that compares two lists and prints True if they have at least one common member.\n",
    "\n",
    "Sample lists: <code>[1, 2, 3, 4, 5, 6]</code> and <code>[10, 9, 8, 7, 6]</code>. Expected Output: True\n",
    "\n"
   ]
  },
  {
   "cell_type": "code",
   "execution_count": null,
   "id": "24ab4cfc",
   "metadata": {},
   "outputs": [],
   "source": []
  },
  {
   "cell_type": "markdown",
   "id": "94ce59aa",
   "metadata": {},
   "source": [
    "4. **Challenge!** Given a list of integers, write a Python function to create a new list with the same number of elements in the original list such that each integer in the new list is the sum of its neighbours and itself. For example, if  <code>listA = [10,20,30,40,50]</code>, <code>new_list =[30,60,90,120,90]</code>"
   ]
  },
  {
   "cell_type": "code",
   "execution_count": null,
   "id": "edcf76c2",
   "metadata": {},
   "outputs": [],
   "source": []
  },
  {
   "cell_type": "markdown",
   "id": "4f0ae5aa",
   "metadata": {},
   "source": [
    "## Dictionaries"
   ]
  },
  {
   "cell_type": "markdown",
   "id": "c7561828",
   "metadata": {},
   "source": [
    "### Creating dictionaries"
   ]
  },
  {
   "cell_type": "code",
   "execution_count": null,
   "id": "0e910207",
   "metadata": {},
   "outputs": [],
   "source": [
    "empty_dict = {}\n",
    "d1 = {'a' : 'some value', 'b' : [1, 2, 3, 4]}\n",
    "print(d1) # Will show {'a': 'some value', 'b': [1, 2, 3, 4]}"
   ]
  },
  {
   "cell_type": "markdown",
   "id": "28726645",
   "metadata": {},
   "source": [
    "### Inserting elements"
   ]
  },
  {
   "cell_type": "code",
   "execution_count": null,
   "id": "9d43e402",
   "metadata": {},
   "outputs": [],
   "source": [
    "d1[7] = 'an integer'\n",
    "print(d1) # Will show {'a': 'some value', 'b': [1, 2, 3, 4], 7: 'an integer'}"
   ]
  },
  {
   "cell_type": "markdown",
   "id": "806679fa",
   "metadata": {},
   "source": [
    "### Common operations"
   ]
  },
  {
   "cell_type": "code",
   "execution_count": 2,
   "id": "886485ab",
   "metadata": {},
   "outputs": [
    {
     "ename": "NameError",
     "evalue": "name 'my_dict' is not defined",
     "output_type": "error",
     "traceback": [
      "\u001b[1;31m---------------------------------------------------------------------------\u001b[0m",
      "\u001b[1;31mNameError\u001b[0m                                 Traceback (most recent call last)",
      "Input \u001b[1;32mIn [2]\u001b[0m, in \u001b[0;36m<cell line: 2>\u001b[1;34m()\u001b[0m\n\u001b[0;32m      1\u001b[0m \u001b[38;5;66;03m# How many key:value pairs\u001b[39;00m\n\u001b[1;32m----> 2\u001b[0m \u001b[38;5;28mlen\u001b[39m(\u001b[43mmy_dict\u001b[49m)\n\u001b[0;32m      3\u001b[0m \u001b[38;5;124m\"\u001b[39m\u001b[38;5;124msome value\u001b[39m\u001b[38;5;124m\"\u001b[39m \u001b[38;5;129;01min\u001b[39;00m my_dict\n\u001b[0;32m      4\u001b[0m \u001b[38;5;28;01mfor\u001b[39;00m key \u001b[38;5;129;01min\u001b[39;00m my_dict:\n",
      "\u001b[1;31mNameError\u001b[0m: name 'my_dict' is not defined"
     ]
    }
   ],
   "source": [
    "# How many key:value pairs\n",
    "len(my_dict)\n",
    "\n",
    "# Check if some value is a key\n",
    "\"a\" in my_dict\n",
    "\n",
    "# Print all keys\n",
    "for key in my_dict:\n",
    "    print(key)"
   ]
  },
  {
   "cell_type": "markdown",
   "id": "b99711a1",
   "metadata": {},
   "source": [
    "### Delete elements"
   ]
  },
  {
   "cell_type": "code",
   "execution_count": null,
   "id": "911e49d7",
   "metadata": {},
   "outputs": [],
   "source": [
    "d1[5] = 'some value'\n",
    "d1['dummy'] = 'another value'\n",
    "print(d1) # {'a': 'some value', 'b': [1, 2, 3, 4], 7: 'an integer', 5: 'some value', 'dummy': 'another value'}\n",
    "\n",
    "del d1[5]\n",
    "print(d1) # {'a': 'some value', 'b': [1, 2, 3, 4], 7: 'an integer', 'dummy': 'another value'}\n",
    "\n",
    "ret = d1.pop('dummy')\n",
    "print(ret) # Will show 'another value'\n",
    "print(d1) # {'a': 'some value', 'b': [1, 2, 3, 4], 7: 'an integer'}"
   ]
  },
  {
   "cell_type": "markdown",
   "id": "08b62aa7",
   "metadata": {},
   "source": [
    "### List keys and values"
   ]
  },
  {
   "cell_type": "code",
   "execution_count": null,
   "id": "7f257eaa",
   "metadata": {},
   "outputs": [],
   "source": [
    "print(list(d1.keys())) # ['a', 'b', 7]\n",
    "print(list(d1.values())) # ['some value', [1, 2, 3, 4], 'an integer']"
   ]
  },
  {
   "cell_type": "markdown",
   "id": "9a75ab01",
   "metadata": {},
   "source": [
    "### Iterate over dictionaries"
   ]
  },
  {
   "cell_type": "code",
   "execution_count": 3,
   "id": "adac6ca6",
   "metadata": {},
   "outputs": [
    {
     "ename": "NameError",
     "evalue": "name 'my_dict' is not defined",
     "output_type": "error",
     "traceback": [
      "\u001b[1;31m---------------------------------------------------------------------------\u001b[0m",
      "\u001b[1;31mNameError\u001b[0m                                 Traceback (most recent call last)",
      "Input \u001b[1;32mIn [3]\u001b[0m, in \u001b[0;36m<cell line: 2>\u001b[1;34m()\u001b[0m\n\u001b[0;32m      1\u001b[0m \u001b[38;5;66;03m# Iterate over keys\u001b[39;00m\n\u001b[1;32m----> 2\u001b[0m \u001b[38;5;28;01mfor\u001b[39;00m key \u001b[38;5;129;01min\u001b[39;00m \u001b[43mmy_dict\u001b[49m\u001b[38;5;241m.\u001b[39mkeys():\n\u001b[0;32m      3\u001b[0m     \u001b[38;5;28mprint\u001b[39m(key)\n\u001b[0;32m      5\u001b[0m \u001b[38;5;28;01mfor\u001b[39;00m key, value \u001b[38;5;129;01min\u001b[39;00m my_dict\u001b[38;5;241m.\u001b[39mitems():\n",
      "\u001b[1;31mNameError\u001b[0m: name 'my_dict' is not defined"
     ]
    }
   ],
   "source": [
    "# Iterate over keys\n",
    "for key in my_dict.keys():\n",
    "    print(key)\n",
    "\n",
    "# Iterate over keys and values simultaneously\n",
    "for key, value in my_dict.items():\n",
    "    print(key,value)\n",
    "\n",
    "# Iterate over values\n",
    "for value in my_dict.values():\n",
    "    print(value)"
   ]
  },
  {
   "cell_type": "markdown",
   "id": "9d97b5cd",
   "metadata": {},
   "source": [
    "### Exercises"
   ]
  },
  {
   "cell_type": "markdown",
   "id": "2f1dcc1e",
   "metadata": {},
   "source": [
    "1. Write a Python program to combine these two dictionaries adding values for common keys.\n",
    "<code>\n",
    "d1 = {'a': 100, 'b': 200, 'c':300}\n",
    "d2 = {'a': 300, 'b': 200, 'd':400}\n",
    "</code>\n",
    "\n",
    "Sample output: <code>d3 = {'a': 400, 'b': 400, 'd': 400, 'c': 300}</code>"
   ]
  },
  {
   "cell_type": "code",
   "execution_count": null,
   "id": "53f365f5",
   "metadata": {},
   "outputs": [],
   "source": []
  },
  {
   "cell_type": "markdown",
   "id": "36f99289",
   "metadata": {},
   "source": [
    "2. Use a dictionary to create a program that prompts for an integer and prints out the integer using words. For example: 138 will print \"one three eight\""
   ]
  },
  {
   "cell_type": "code",
   "execution_count": null,
   "id": "7d5dc981",
   "metadata": {},
   "outputs": [],
   "source": []
  },
  {
   "cell_type": "markdown",
   "id": "426a1cfa",
   "metadata": {},
   "source": [
    "3. Create a dictionary that maps countries to their capitals. You may start with an empty dictionary. Ask the user to input the name of the country and its capital and add them to the dictionary. E.g., <code>capitals = {'Argentina':'Buenos Aires','France':'Paris', 'US': 'Washington D.C.'}</code>. Once the dictionary is created, print the capitals in alphabetical order. You can use the sort method from lists to sort elements."
   ]
  },
  {
   "cell_type": "code",
   "execution_count": null,
   "id": "e41d570d",
   "metadata": {},
   "outputs": [],
   "source": []
  }
 ],
 "metadata": {
  "kernelspec": {
   "display_name": "Python 3 (ipykernel)",
   "language": "python",
   "name": "python3"
  },
  "language_info": {
   "codemirror_mode": {
    "name": "ipython",
    "version": 3
   },
   "file_extension": ".py",
   "mimetype": "text/x-python",
   "name": "python",
   "nbconvert_exporter": "python",
   "pygments_lexer": "ipython3",
   "version": "3.9.12"
  }
 },
 "nbformat": 4,
 "nbformat_minor": 5
}
